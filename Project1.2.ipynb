{
 "cells": [
  {
   "cell_type": "code",
   "execution_count": 1,
   "metadata": {},
   "outputs": [],
   "source": [
    "import pandas as pd\n",
    "from gensim.models import LdaMulticore\n",
    "\n",
    "df = pd.read_csv('comments.csv', lineterminator='\\n')\n",
    "topic_of_comment_df = pd.read_pickle('topic_of_comment.pkl')\n",
    "representative_df = pd.read_pickle('representative_comments.pkl')\n",
    "representative_df_2 = pd.read_pickle('representative_comments_2.pkl')\n",
    "model = LdaMulticore.load('LDAModel')"
   ]
  },
  {
   "cell_type": "code",
   "execution_count": 4,
   "metadata": {},
   "outputs": [
    {
     "data": {
      "text/plain": [
       "array(['vjF9GgrY9c0', 'SVAryZ0GLwE', 'aZ_ARLDWK9Y', 'j7-qaRs3XxQ',\n",
       "       'Igq3d6XA75Y', 'FknHjl7eQ6o', 'cgFvZmfjTYc', 'mrZC1Jcv0dw',\n",
       "       'Q4ZdkEiYvK0', 'aWbQ5WcB0m4', 'qIcTM8WXFjk', '8X2kIfS6fb8',\n",
       "       'P99qJGrPNLs', 'AN1RJF55NXI', 'cGmWwFpNIHg', 'dXt1m7gg12c',\n",
       "       'xYxt7cwDk4E', 'wwr6TlEbiuU', 'qU3-4IrZ7tk'], dtype=object)"
      ]
     },
     "execution_count": 4,
     "metadata": {},
     "output_type": "execute_result"
    }
   ],
   "source": [
    "df['videoId'].unique()"
   ]
  },
  {
   "cell_type": "code",
   "execution_count": 3,
   "metadata": {},
   "outputs": [],
   "source": [
    "pd.set_option('display.max_colwidth', None)"
   ]
  },
  {
   "cell_type": "code",
   "execution_count": 84,
   "metadata": {},
   "outputs": [
    {
     "data": {
      "text/plain": [
       "[(0,\n",
       "  '0.056*\"time\" + 0.034*\"game\" + 0.032*\"damn\" + 0.031*\"yes\" + 0.030*\"god\" + 0.027*\"holy\" + 0.026*\"archive\" + 0.026*\"hyped\" + 0.023*\"teaser\" + 0.021*\"nice\" + 0.020*\"finally\" + 0.020*\"life\" + 0.019*\"trailer\" + 0.016*\"teaser_trailer\" + 0.013*\"thank\"'),\n",
       " (1,\n",
       "  '0.052*\"person\" + 0.034*\"bullets\" + 0.030*\"cool\" + 0.029*\"character\" + 0.023*\"love\" + 0.018*\"like\" + 0.017*\"rd_person\" + 0.016*\"guy\" + 0.015*\"girl\" + 0.015*\"archive_bullets\" + 0.015*\"rd\" + 0.014*\"point\" + 0.014*\"use\" + 0.013*\"car\" + 0.012*\"hope\"'),\n",
       " (2,\n",
       "  '0.073*\"years\" + 0.067*\"release\" + 0.050*\"release_date\" + 0.035*\"trailer\" + 0.032*\"cyberpunk\" + 0.032*\"date\" + 0.032*\"waiting\" + 0.022*\"game\" + 0.020*\"old\" + 0.015*\"views\" + 0.013*\"called\" + 0.013*\"team\" + 0.012*\"stop\" + 0.012*\"title\" + 0.012*\"day\"'),\n",
       " (3,\n",
       "  '0.157*\"like\" + 0.155*\"looks\" + 0.072*\"looks_like\" + 0.035*\"keanu_reeves\" + 0.034*\"keanu\" + 0.030*\"man\" + 0.023*\"game\" + 0.023*\"good\" + 0.021*\"reeves\" + 0.020*\"cgi\" + 0.017*\"dude\" + 0.013*\"police\" + 0.010*\"shot\" + 0.009*\"super\" + 0.009*\"killed\"'),\n",
       " (4,\n",
       "  '0.089*\"cd\" + 0.073*\"red\" + 0.068*\"cd_projekt\" + 0.058*\"projekt\" + 0.050*\"awesome\" + 0.048*\"ready\" + 0.035*\"coming_ready\" + 0.035*\"cd_projekt_red\" + 0.031*\"cd_project\" + 0.030*\"project\" + 0.024*\"yeah\" + 0.018*\"coming\" + 0.014*\"message\" + 0.014*\"cd_project_red\" + 0.012*\"dead\"'),\n",
       " (5,\n",
       "  '0.053*\"blade_runner\" + 0.052*\"amazing\" + 0.044*\"new\" + 0.038*\"gameplay\" + 0.034*\"game\" + 0.033*\"video\" + 0.032*\"blade\" + 0.031*\"runner\" + 0.029*\"world\" + 0.026*\"watch\" + 0.026*\"looks\" + 0.025*\"looks_amazing\" + 0.023*\"hype\" + 0.021*\"open_world\" + 0.021*\"year\"'),\n",
       " (6,\n",
       "  '0.029*\"game\" + 0.028*\"people\" + 0.027*\"coming\" + 0.020*\"didnt\" + 0.018*\"trailer\" + 0.018*\"time\" + 0.016*\"long\" + 0.015*\"ciri\" + 0.014*\"ps\" + 0.014*\"watching\" + 0.012*\"came\" + 0.010*\"cyberpunk\" + 0.010*\"theyre\" + 0.010*\"know\" + 0.010*\"remember\"'),\n",
       " (7,\n",
       "  '0.066*\"song\" + 0.052*\"music\" + 0.032*\"trailer\" + 0.031*\"like\" + 0.028*\"end\" + 0.021*\"read\" + 0.020*\"years_ago\" + 0.016*\"video\" + 0.016*\"ago\" + 0.015*\"thought\" + 0.015*\"years\" + 0.014*\"know\" + 0.013*\"epic\" + 0.013*\"perfect\" + 0.012*\"movie\"'),\n",
       " (8,\n",
       "  '0.056*\"like\" + 0.039*\"deus_ex\" + 0.035*\"look\" + 0.025*\"great\" + 0.025*\"ex\" + 0.024*\"deus\" + 0.024*\"game\" + 0.024*\"ghost_shell\" + 0.022*\"gta\" + 0.020*\"looks\" + 0.017*\"cyberpunk\" + 0.016*\"looking\" + 0.015*\"shell\" + 0.015*\"ghost\" + 0.013*\"money\"'),\n",
       " (9,\n",
       "  '0.031*\"pretty\" + 0.021*\"city\" + 0.017*\"night\" + 0.016*\"ok\" + 0.016*\"theres\" + 0.015*\"night_city\" + 0.013*\"lets\" + 0.012*\"bullet\" + 0.012*\"screen\" + 0.012*\"understand\" + 0.011*\"big\" + 0.011*\"footage\" + 0.011*\"video\" + 0.011*\"daft_punk\" + 0.010*\"shadowrun\"'),\n",
       " (10,\n",
       "  '0.110*\"game\" + 0.052*\"wait\" + 0.037*\"good\" + 0.029*\"witcher\" + 0.027*\"games\" + 0.023*\"best\" + 0.023*\"going\" + 0.020*\"cdpr\" + 0.020*\"play\" + 0.015*\"come\" + 0.015*\"gonna\" + 0.013*\"trailer\" + 0.012*\"excited\" + 0.011*\"hope\" + 0.011*\"cyberpunk\"'),\n",
       " (11,\n",
       "  '0.064*\"future\" + 0.040*\"real\" + 0.033*\"comment\" + 0.033*\"whats\" + 0.033*\"john_wick\" + 0.028*\"wonder\" + 0.027*\"secret_message\" + 0.021*\"john\" + 0.020*\"wick\" + 0.020*\"stupid\" + 0.019*\"cyberpunk\" + 0.019*\"check\" + 0.019*\"secret\" + 0.018*\"sick\" + 0.017*\"kill\"'),\n",
       " (12,\n",
       "  '0.070*\"dont\" + 0.051*\"game\" + 0.043*\"want\" + 0.042*\"pc\" + 0.034*\"know\" + 0.029*\"need\" + 0.022*\"buy\" + 0.019*\"dont_know\" + 0.017*\"like\" + 0.016*\"consoles\" + 0.015*\"right\" + 0.013*\"play\" + 0.013*\"think\" + 0.012*\"console\" + 0.012*\"games\"')]"
      ]
     },
     "execution_count": 84,
     "metadata": {},
     "output_type": "execute_result"
    }
   ],
   "source": [
    "model.show_topics(num_topics=13, num_words=15)"
   ]
  },
  {
   "cell_type": "code",
   "execution_count": null,
   "metadata": {},
   "outputs": [],
   "source": []
  },
  {
   "cell_type": "code",
   "execution_count": 87,
   "metadata": {},
   "outputs": [
    {
     "name": "stdout",
     "output_type": "stream",
     "text": [
      "\n",
      "Topic 0:\n",
      "time, game, damn, yes, god, holy, archive, hyped, teaser, nice\n",
      "\n",
      "BOYIIIIIIIIIIIIIIIII the hype is real first game of my life that im gonna preorder IDGAF fuck the gas money\n",
      "Thats a TEASER The REAL trailer is yet to be released teaser is not trailer\n",
      "4th time watching this and still cant get enough This game is released So hyped\n",
      "FUCKING ACTUALLY FUCKING HYPED AS FUCK FOR THIS FUCKING GAME GOD FUCKING DAMN FUCK\n",
      "Between this and Star Citizen I think I might as well resign from the next two decades of my life right now\n",
      "No one  Me Time to rewatch the teaser for the 100th time\n",
      "Its the first real teaser trailer of a conceptually promising game\n",
      "Happy 5 Year Anniversary Cyberpunk 2077 Teaser Trailer  3\n",
      "Damn half life alyx is 2 days away\n",
      "god damn thats a hell of a game\n",
      "\n",
      "Topic 1:\n",
      "person, bullets, cool, character, love, like, rd_person, guy, girl, archive_bullets\n",
      "\n",
      "Im hoping they add the options to play the game in 3rd person view Always been like that when I play rpg\n",
      "Can we change between 1st and 3rd Person I Wanna Play but i cant play 1st Person Shooter\n",
      "I still prefer 3RD person camera so other people with FPS motion sickness in FPS give me a headache\n",
      "i hope there was an option to either play as 1st person or 3rd person play mode \n",
      "i like 3rd person view more than 1st person\n",
      "Wish they had the option to play in 3rd person I like to have that option\n",
      "1st person game give me motion sickness fuck\n",
      "id like to think that the main character is Markus and thats Detroit after some decades D\n",
      "PLEASE PLEASE PLEASE put Garelt of Rivia in this game somehow Can you imagine seeing him as a side quest character being a bounty hunter with all of those cool augments on him And he has two pistols that say Silver and Steel On the side of them Little girl squeal engage\n",
      "Does the camera can turn into third person just like skyrim  i  think it would be better can be in FPS and TPS\n",
      "\n",
      "Topic 2:\n",
      "years, release, release_date, trailer, cyberpunk, date, waiting, game, old, views\n",
      "\n",
      "Imagine waiting 8 years for a game until its release since you graduated from elementary school to graduating high school Crazy\n",
      "4146 Jesus Christ head got blow off mmy legs\n",
      "After 5 years of waiting I realized that 2077 isnt the title of game  its the release date\n",
      "Seven years SEVEN FUCKING YEARS IVE WAITED FOR ONE GAME\n",
      "Lol this trailer came out my first year in high school and Im graduating next week lol\n",
      "Ser que ele vai ter dublado para PT BR  se tiver vai ser + Top ainda \\o Que venha 2020 logo rsrss\n",
      "I was 10 years old when this trailer came out when the game releases i will be 17\n",
      "The game is not called Cyberpunk 2077 the 2077 part is the release date of Cyberpunk\n",
      "The game is actually just called cyberpunk the 2077 part is the release date\n",
      "2077 is release date oh i will be 78 years old  when this game release\n",
      "\n",
      "Topic 3:\n",
      "like, looks, looks_like, keanu_reeves, keanu, man, game, good, reeves, cgi\n",
      "\n",
      "The guy in the picture looks like keanu reeves      OHHH IT IS HIM\n",
      "Keanu Reeves in cyberpunk This game just got even better than it already was\n",
      "Looks like max Payne 3 with cyberpunk coat\n",
      "Omg keanu reeves for reaaal this game just got a whole lot better than it already is\n",
      "Only thing that would make this game better would be idk Keanu Reeves or something\n",
      "not gonna lie still really good but i miss the e3 2018 trailer\n",
      "Game just got 10x more better when Keanu reeves appears\n",
      "KEANU REEVES IS GONNA MAKE THIS GAME 100 BETTER\n",
      "This looks like Keanu Reeves\n",
      "Not gonna lie it looks like apex\n",
      "\n",
      "Topic 4:\n",
      "cd, red, cd_projekt, projekt, awesome, ready, coming_ready, cd_projekt_red, cd_project, project\n",
      "\n",
      "EASingle player games are dead CD PROJEKT RED EA is dead\n",
      "This Game Is BREATHTAKING Thank You CD RED PROJEKT RED\n",
      "CD PROJECT is the most fucking awesome company of games  in the world I love  all games of you\n",
      "CD Projekt Red we really love you guys DO IT FOR LOVE Its from gamers to gamers\n",
      "Cyberpunk 2077 is shaping up amazingly  All it just needs is official modding support from CD Projekt RED\n",
      "Coming When its ready this is why we love you CD Projekt Red\n",
      "Cyberpunk 2077 Red dead redemption 2 The elder scrolls 6 AAAAAAAAAAAAAAAAAAAAA\n",
      "EASingle player games are dead                      CD Project  Take My Keenu \n",
      "I will Support everything from CD Projekt Red because of The Witcher 3  They can do great Games\n",
      "CD Project Red produces some the best games in the industry Love it\n",
      "\n",
      "Topic 5:\n",
      "blade_runner, amazing, new, gameplay, game, video, blade, runner, world, watch\n",
      "\n",
      "Im just blown away by how amazing this game looks This is the standard that video games should have\n",
      "The open world aspect is just amazing Well all of it looks amazing \n",
      "Dawno nie widziaem takiego stosunku apek do wywietle jak i apek w gr do tych w d Ludzie ju wiedz e redzi dotrzymuj sowa ukazanego na zwiastunie i nie jest to tylko pusty obraz a zapowied czego wielkiego Nic tylko czeka\n",
      "watch dogs2 + blade runner = cyberpunk 2077\n",
      "So is cyberpunk 2077  an rpg I hope its something with an open world and the graphics will be high performence\n",
      "Is it just me or the graphics of the game looks worse than the first gameplay reveal trailer\n",
      "Kurcz naczekam si troch na Cyberpunka 2077 Lubi kupowagra w gry w wersji ostatecznej tzn wydanej z wszystkimi dodatkami wpeni poatan Zawsze te poluj na jak promocj Jeeli ma on wyj w kwietniu 2020 roku to najprdzej odpal j w 2021 roku Moja cierpliwo zostanie poddana prbie jeli j przetrzymam bdzie mona o mnie powiedzie e jestem cnotliwym czowiekiem\n",
      "Watch dogs 2 + blade runner= ciberpunk 2077\n",
      "blade runner and snacher cyber punk\n",
      "If Blade Runner was an open world RPG\n",
      "\n",
      "Topic 6:\n",
      "game, people, coming, didnt, trailer, time, long, ciri, ps, watching\n",
      "\n",
      "I think about getting the super duper collectors edition of this game  I will also have to write my Bachelor work then Fml\n",
      "I didnt know that a game with master yi would come D\n",
      "This trailer went through ps3 ps4 ps4 pro and about to go through the ps5\n",
      "I appreciate CDPR showing the surroundings during the day because some people thought that there would be no actual daynight cycle in this game\n",
      "Didnt know rick ross was going to be in the game\n",
      "Guys the hype train is leaving soon Get your tickets now and preorder the shit out of it No regrets \n",
      "3355 Master Yi has come a long way\n",
      "Didnt know Rick Ross was in Cyberpunk\n",
      "Imagine if the Hack on Xbox wasnt Cyberpunk it was Cyberpunk when Xbox is being Robbed Lol \n",
      "I havent said wow for a game in a long time WOW\n",
      "\n",
      "Topic 7:\n",
      "song, music, trailer, like, end, read, years_ago, video, ago, thought\n",
      "\n",
      "At 207 background music sounds similar to a bollywood Movie Padmavat songs Deewani Mastani\n",
      "Why I hear voices from the end of Deewani Mastani song OST Bajirao Mastani in that melody \n",
      "During the interview the background music made me leave as it was too annoying having to force myself to listen to what was being said\n",
      "this sounds like the song  dewani mastani  from bajirao mastani movie\n",
      "From 105 this song bgm is copied from Bajirao mastani movie song mai deevani ho gayi  its an Indian song lol \n",
      "is it just me or 106 sounds like deewani mastani from bajirao mastani\n",
      "This sounds very similar to that song in the bajirao mastani movie where mastani danced for bajirao\n",
      "Listen Deewani Mastani song from Bajirao Mastani movie\n",
      "A part of this theme song is copied or same as a song in the Indian movie Bajirao Mastani\n",
      "Sounds like deewani mastani from Bajirao mastani\n",
      "\n",
      "Topic 8:\n",
      "like, deus_ex, look, great, ex, deus, game, ghost_shell, gta, looks\n",
      "\n",
      "GTA5 + DEUS EX = CYBERPUNK Just the type of game ive been looking for since I played GTA series and the Deux Ex series\n",
      "Great game It reminds me of like a mix between Fallout GTA KOTR in a world like Ghost In The Shell\n",
      "1020 Whatever caused this ghosting If its not a gameplay element hope it would not be in the final game I love the Deus Ex style but not so much for the smearingghosting artifacts that games antialiasing have\n",
      "This game looks so good  Although its got look and style of a GTA game hoping it isnt tho\n",
      "I like this game The metropolis is Deus Ex inspired but that is it The story of the game maybe very good\n",
      "Reminds me a lot of Ghost in the Shell and the manga Eden Its an Endless World Looking forward to playing this\n",
      "This is like if Deus ex GTA 5 and ghost in the shell without the philosophy had a threesome\n",
      "This gameplay feels like a mix Deus Ex Fallout and Killzone\n",
      "look like deus ex btw like a good game\n",
      "Honestly I think this game graphically is between FEAR and GTA5  it doesnt look like an improvement over the latter\n",
      "\n",
      "Topic 9:\n",
      "pretty, city, night, ok, theres, night_city, lets, bullet, screen, understand\n",
      "\n",
      "Literalmente estoy entrando en una fase de depresion esperando el juego por que ya ninguno me entretiene y no hago mas que pensar en el dia que pueda experimentar CyberPunk2077\n",
      "Isnt Jackie Welles the recurring sidekick character in the trailers suppose to be a big character so this trailer is a spoiler in that case Bit annoyed by that \n",
      "Crear el juego en primera persona y obvio no lo comprare Deben saber que asi como yo hay una comunidad de miles de personas Ojo hay que ser mas inteligentes\n",
      "Crear el juego en primera persona y obvio no lo comprare Deben saber que as como yo hay una comunidad de miles de personas Ojo hay que ser mas inteligentes\n",
      "Este juego junta todo lo detestable acerca del neocyberpunk Tiene tan poco del gnero que para hacertelo creer lo dice en el nombre\n",
      "para que van a personalizar el personaje si va a estar en primera persona osea es al pedo\n",
      "es una pena que el juego sea en primera persona y no en 3ra \n",
      "An sigo deseando que implementen el modo 3ra persona As podramos apreciar diferentes maneras de ver el mundo cyberpunk y poder disfrutar de la moda en nuestro personaje       Pnks Nt ead \n",
      "Does this mean theres no character creation  I wanted to make my own character\n",
      "Soy la nica que no puede parar de ver este gameplay Imagnate cuando salga la viciada que le vamos a pegar\n",
      "\n",
      "Topic 10:\n",
      "game, wait, good, witcher, games, best, going, cdpr, play, come\n",
      "\n",
      "I think Witcher 3 Wild Hunt is best game ever made but I gotta feeling this will be even better Story seems insanely good as well as graphicsJust typical CDPR game D\n",
      "This game will transcend its market many non gamers will enjoy it and maybe will become gamers afterwards Seriously its being a long while since I am that excited about a game cant wait\n",
      "EA  Single player games are dead CDPR  hold my beer\n",
      "EA Single player games are dead  CDPR Hold my beer\n",
      "EA single player games are dead    CDPR hold my beer\n",
      "EA Single Player games are Dead  CDPR Hold my beer\n",
      "EA Single Player games are Dead  CDPR Hold my beer InCDPRweTrust\n",
      "EA single player games are dead\r",
      " CDPR EA is dead\n",
      "EA  No more Single player games  CDPR  Hold my beer\n",
      "EA single player games are dead CDPR EA is dead\n",
      "\n",
      "Topic 11:\n",
      "future, real, comment, whats, john_wick, wonder, secret_message, john, wick, stupid\n",
      "\n",
      "2014john wick  2017 john wick cyberpunk\n",
      "Plot twist Cyberpunk 2077 is actually John Wick Chapter 77\n",
      "Can believe they put John Wick Fortnite in Cyberpunk\n",
      "cant believe they got john wick from fortnite\n",
      "I cant believe John Wick from Fortnite is in Cyberpunk\n",
      "All here scream John Wick Jonh Wick Matrix is all and Neo\n",
      "Fortnite we got REAL JOHN WICK\n",
      "We got John wick from fortnite in cyberpunk 2077\n",
      "Nobody   Fortnite kids hey that John wick from fortnite\n",
      "John Wick in cyberpunk is better than from fortnite lol\n",
      "\n",
      "Topic 12:\n",
      "dont, game, want, pc, know, need, buy, dont_know, like, consoles\n",
      "\n",
      "wanna pre order on steam but Im not sure if it will work on i79750H gtx 1660ti 24GB ram8 + 16 flex at 60fps medium settings\n",
      "dont buy from steam guys buy for GOG they deserve all the money  dont let this happend like the witcher 3\n",
      "intel i15 114 ghz gtx 7080ti OC 32gb ram 6000 mhz will run it at 40 fps in low sarcasm i want this game so bad\n",
      "I truly want this game but i cant buy The game and i have no xbox one or ps4 and thats really fuck me i need to play this think\n",
      "minimum requirements to run i9 9900k rtx 2080ti 32gb Ram\n",
      "Isnt your PC customizable though How are they gonna handle giving a customizable PC a personality Its not like the Witcher series\n",
      "Here i5 6600k  46 GHz GTX 1060 Xtreme Gaming 6G and 16 GB RAM 2x 8GB  3200 MHz CL15 I hope to play at maximum settings 60 FPS in FullHD\n",
      "Ive installed 2 GTX 1080 ti in SLI just for this particular game Hope the game will be enough to play it in 4K on ultra settings\n",
      "I hope it releases on Xbox one but I dont care I want to play this game\n",
      "I dont even have a pc that can run the game but still probably buying this just to give money to cdpr\n"
     ]
    }
   ],
   "source": [
    "for i in range(len(representative_df)):\n",
    "    if i%10 == 0:\n",
    "        print()\n",
    "        print(f'Topic {i//10}:')\n",
    "        print(representative_df.iloc[i,3])\n",
    "        print()\n",
    "    print(representative_df.iloc[i,4])"
   ]
  },
  {
   "cell_type": "code",
   "execution_count": 103,
   "metadata": {},
   "outputs": [
    {
     "name": "stdout",
     "output_type": "stream",
     "text": [
      "\n",
      "Topic 0:\n",
      "time, game, damn, yes, god, holy, archive, hyped, teaser, nice\n",
      "\n",
      "BOYIIIIIIIIIIIIIIIII the hype is real first game of my life that im gonna preorder IDGAF fuck the gas money\n",
      "Thats a TEASER The REAL trailer is yet to be released teaser is not trailer\n",
      "4th time watching this and still cant get enough This game is released So hyped\n",
      "FUCKING ACTUALLY FUCKING HYPED AS FUCK FOR THIS FUCKING GAME GOD FUCKING DAMN FUCK\n",
      "Between this and Star Citizen I think I might as well resign from the next two decades of my life right now\n",
      "No one  Me Time to rewatch the teaser for the 100th time\n",
      "Its the first real teaser trailer of a conceptually promising game\n",
      "Happy 5 Year Anniversary Cyberpunk 2077 Teaser Trailer  3\n",
      "Damn half life alyx is 2 days away\n",
      "god damn thats a hell of a game\n",
      "215 Thank God thats not real water\n",
      "Thank God for giving us CDPR\n",
      "I was 13 I will be 20 when this game comes out Time flies\n",
      "GOD DAMN IT I JUST GOT MY MONEY\n",
      "Oh my this game will ruin my social life\n",
      "You can preorder 1 year from now The hype is real lol\n",
      "Thats how a game is made god damn it\n",
      "God damn they actually released it\n",
      "Which one will drop first  Star Citizen or CyberPunk 2077\n",
      "It would be great if we could get a trailer on the 5 year anniversary of the teaser Which was released on January 10th 2013\n",
      "\n",
      "Topic 1:\n",
      "person, bullets, cool, character, love, like, rd_person, guy, girl, archive_bullets\n",
      "\n",
      "Im hoping they add the options to play the game in 3rd person view Always been like that when I play rpg\n",
      "Can we change between 1st and 3rd Person I Wanna Play but i cant play 1st Person Shooter\n",
      "I still prefer 3RD person camera so other people with FPS motion sickness in FPS give me a headache\n",
      "i hope there was an option to either play as 1st person or 3rd person play mode \n",
      "i like 3rd person view more than 1st person\n",
      "Wish they had the option to play in 3rd person I like to have that option\n",
      "1st person game give me motion sickness fuck\n",
      "id like to think that the main character is Markus and thats Detroit after some decades D\n",
      "PLEASE PLEASE PLEASE put Garelt of Rivia in this game somehow Can you imagine seeing him as a side quest character being a bounty hunter with all of those cool augments on him And he has two pistols that say Silver and Steel On the side of them Little girl squeal engage\n",
      "Does the camera can turn into third person just like skyrim  i  think it would be better can be in FPS and TPS\n",
      "I like the game a lot but i personally think it should also be on 3rd person\n",
      "I hope they also add an option for 3rd person camera view\n",
      "well i hope the male voice is more badass cause im not playing female for sure\n",
      "Wish we could switch to on foot 3rd person that wouldve been cool\n",
      "111 female main character Im assuming same jacket as the on the guy is wearing\n",
      "1ST PERSON TO 3RD PERSON VIEW SWITCH        \n",
      "is ther any way to view in 3rd person i would like to see my character since i can dress up etc\n",
      "No 3rd person rpgs It is sad and no way I will play it now\n",
      "This versions not bad but I like the first version of chippin in a lot better\n",
      "A little disappointed that its not a 3rd person view was optional and not locked\n",
      "\n",
      "Topic 2:\n",
      "years, release, release_date, trailer, cyberpunk, date, waiting, game, old, views\n",
      "\n",
      "Imagine waiting 8 years for a game until its release since you graduated from elementary school to graduating high school Crazy\n",
      "4146 Jesus Christ head got blow off mmy legs\n",
      "After 5 years of waiting I realized that 2077 isnt the title of game  its the release date\n",
      "Seven years SEVEN FUCKING YEARS IVE WAITED FOR ONE GAME\n",
      "Lol this trailer came out my first year in high school and Im graduating next week lol\n",
      "Ser que ele vai ter dublado para PT BR  se tiver vai ser + Top ainda \\o Que venha 2020 logo rsrss\n",
      "I was 10 years old when this trailer came out when the game releases i will be 17\n",
      "The game is not called Cyberpunk 2077 the 2077 part is the release date of Cyberpunk\n",
      "The game is actually just called cyberpunk the 2077 part is the release date\n",
      "2077 is release date oh i will be 78 years old  when this game release\n",
      "maybe its just called Cyberpunk and the release date is 2077\n",
      "Well guys the game finally has a release date over 7 years after this trailer was released\n",
      "Sonystada j ta aparecendo pra encher o saco pq  esse jogo que vai chutar o rabo de the last of lacrao no ano que vem\n",
      "i was 10 years old when this trailer came out jesus\n",
      "The original trailer had 12 million views in 5 years  This one has 11 million in less than a week\n",
      "Oh I get it The game is called Cyberpunk and the release date is 2077\n",
      "4145 Jesus christ  head  blownoff  mmy legs\n",
      "Olha q esse trailer  do comeo de 2013 ou seja o jogo est sendo feito desde aquela poca ento vai ser um jogo foda demais\n",
      "JESUS CHRIST Loses his head MMY LEGS\n",
      "7 years later Release date\n",
      "\n",
      "Topic 3:\n",
      "like, looks, looks_like, keanu_reeves, keanu, man, game, good, reeves, cgi\n",
      "\n",
      "The guy in the picture looks like keanu reeves      OHHH IT IS HIM\n",
      "Keanu Reeves in cyberpunk This game just got even better than it already was\n",
      "Looks like max Payne 3 with cyberpunk coat\n",
      "Omg keanu reeves for reaaal this game just got a whole lot better than it already is\n",
      "Only thing that would make this game better would be idk Keanu Reeves or something\n",
      "not gonna lie still really good but i miss the e3 2018 trailer\n",
      "Game just got 10x more better when Keanu reeves appears\n",
      "KEANU REEVES IS GONNA MAKE THIS GAME 100 BETTER\n",
      "This looks like Keanu Reeves\n",
      "Not gonna lie it looks like apex\n",
      "Literally i got goosbumps when keanu Reeves showed up\n",
      "Keanu Reeves better have a cyborg dog\n",
      "Keanu Reeves has entred the Game Now thats what i am talking about\n",
      "Keanu Reeves its just getting better and better\n",
      "Cyberpunk 2077  2019 Trailer  I got Keanu Reeves\n",
      "Seeing Keanu Reeves in this made the game EVEN BETTER\n",
      "Looks like someone killed his dog again\n",
      "My one goal in this game is getting Keanu Reeves to like me\n",
      "Is that fucking Keanu Reeves This game is gonna be wild\n",
      "Imagine if you killed a dog in this game\n",
      "\n",
      "Topic 4:\n",
      "cd, red, cd_projekt, projekt, awesome, ready, coming_ready, cd_projekt_red, cd_project, project\n",
      "\n",
      "EASingle player games are dead CD PROJEKT RED EA is dead\n",
      "This Game Is BREATHTAKING Thank You CD RED PROJEKT RED\n",
      "CD PROJECT is the most fucking awesome company of games  in the world I love  all games of you\n",
      "CD Projekt Red we really love you guys DO IT FOR LOVE Its from gamers to gamers\n",
      "Cyberpunk 2077 is shaping up amazingly  All it just needs is official modding support from CD Projekt RED\n",
      "Coming When its ready this is why we love you CD Projekt Red\n",
      "Cyberpunk 2077 Red dead redemption 2 The elder scrolls 6 AAAAAAAAAAAAAAAAAAAAA\n",
      "EASingle player games are dead                      CD Project  Take My Keenu \n",
      "I will Support everything from CD Projekt Red because of The Witcher 3  They can do great Games\n",
      "CD Project Red produces some the best games in the industry Love it\n",
      "COMING WHEN ITS READY  Why CD Projekt Red WHY   you trolls \n",
      "Dear CD Projekt Red youre all breathtaking \n",
      "CD PROJEKT RED  YOURE BREATHTAKING\n",
      "Youre  breathtaking CD Project RED\n",
      "Well it would be the First shooter from CD projekt RED as they are more rpg focused game developers\n",
      "HEY CD PROJEKT RED YOURE BREATHTAKING\n",
      "My body is ready CD projekt Red\n",
      "Youre BREATHTAKING CD PROJEKT RED\n",
      "CD PROJEKT RED youre breathtaking\n",
      "Coming  When its ready  Hell yeah \n",
      "\n",
      "Topic 5:\n",
      "blade_runner, amazing, new, gameplay, game, video, blade, runner, world, watch\n",
      "\n",
      "Im just blown away by how amazing this game looks This is the standard that video games should have\n",
      "The open world aspect is just amazing Well all of it looks amazing \n",
      "Dawno nie widziaem takiego stosunku apek do wywietle jak i apek w gr do tych w d Ludzie ju wiedz e redzi dotrzymuj sowa ukazanego na zwiastunie i nie jest to tylko pusty obraz a zapowied czego wielkiego Nic tylko czeka\n",
      "watch dogs2 + blade runner = cyberpunk 2077\n",
      "So is cyberpunk 2077  an rpg I hope its something with an open world and the graphics will be high performence\n",
      "Is it just me or the graphics of the game looks worse than the first gameplay reveal trailer\n",
      "Kurcz naczekam si troch na Cyberpunka 2077 Lubi kupowagra w gry w wersji ostatecznej tzn wydanej z wszystkimi dodatkami wpeni poatan Zawsze te poluj na jak promocj Jeeli ma on wyj w kwietniu 2020 roku to najprdzej odpal j w 2021 roku Moja cierpliwo zostanie poddana prbie jeli j przetrzymam bdzie mona o mnie powiedzie e jestem cnotliwym czowiekiem\n",
      "Watch dogs 2 + blade runner= ciberpunk 2077\n",
      "blade runner and snacher cyber punk\n",
      "If Blade Runner was an open world RPG\n",
      "basically the Blade Runner game Ive always wanted\n",
      "I think this game is a better watch dogs 1\n",
      " This is the trailer we get No actual gameplay no nothing Just an edited series of clips showing nothing off\n",
      "I hope this game will be better then watch dogs\n",
      "Imagine watch dogs legion concept in cyberpunk 2077 world\n",
      "Japierdole jakie to jest dobre miodne super wspaniae wymienite dobrane fantastyczne wyjebane w kosmos na szybko nie jestem wstanie znale wicej sw na to arcydzieo miodnoci Ju zaczynam oszczdzac na now kart graficzn D\n",
      "I do hope they include some elements from Blade Runner\n",
      "this will be the blade runner of video games\n",
      "Zalatuje Saint rowem ale tylko odrobink xd nie jest te to wiedmin ale 100 bdzie mojej kolekcji xd\n",
      "The Graphics Looks INSANE And Its OPEN WORLD\n",
      "\n",
      "Topic 6:\n",
      "game, people, coming, didnt, trailer, time, long, ciri, ps, watching\n",
      "\n",
      "I think about getting the super duper collectors edition of this game  I will also have to write my Bachelor work then Fml\n",
      "I didnt know that a game with master yi would come D\n",
      "This trailer went through ps3 ps4 ps4 pro and about to go through the ps5\n",
      "I appreciate CDPR showing the surroundings during the day because some people thought that there would be no actual daynight cycle in this game\n",
      "Didnt know rick ross was going to be in the game\n",
      "Guys the hype train is leaving soon Get your tickets now and preorder the shit out of it No regrets \n",
      "3355 Master Yi has come a long way\n",
      "Didnt know Rick Ross was in Cyberpunk\n",
      "Imagine if the Hack on Xbox wasnt Cyberpunk it was Cyberpunk when Xbox is being Robbed Lol \n",
      "I havent said wow for a game in a long time WOW\n",
      "Maybe this Game Coming to PS5 and Xbox Two\n",
      "Fucking 2013 i didnt know that this game had been in development for so long\n",
      "I said models Do you know what that means in the 3d models can come very close to this Cant anyone reply to someone without insulting them \n",
      "My first time buying a collectors edition anything Its hype 3\n",
      "When is the collectors edition going to be available for preorder\n",
      "I cant be the only one finding it hard to believe that the game is coming out soon\n",
      "1425 Didnt know Rick Ross was in the game\n",
      "This is the game Im buying a PS4 pro for I guess \n",
      "Cocksuckin attention is the cringiest thing Ive heard in a long time\n",
      "I didnt know Rick Ross was in this game   116\n",
      "\n",
      "Topic 7:\n",
      "song, music, trailer, like, end, read, years_ago, video, ago, thought\n",
      "\n",
      "At 207 background music sounds similar to a bollywood Movie Padmavat songs Deewani Mastani\n",
      "Why I hear voices from the end of Deewani Mastani song OST Bajirao Mastani in that melody \n",
      "During the interview the background music made me leave as it was too annoying having to force myself to listen to what was being said\n",
      "this sounds like the song  dewani mastani  from bajirao mastani movie\n",
      "From 105 this song bgm is copied from Bajirao mastani movie song mai deevani ho gayi  its an Indian song lol \n",
      "is it just me or 106 sounds like deewani mastani from bajirao mastani\n",
      "This sounds very similar to that song in the bajirao mastani movie where mastani danced for bajirao\n",
      "Listen Deewani Mastani song from Bajirao Mastani movie\n",
      "A part of this theme song is copied or same as a song in the Indian movie Bajirao Mastani\n",
      "Sounds like deewani mastani from Bajirao mastani\n",
      "Sounds like the ending Deewani Mastani\n",
      "Copied Listen to bajirao mastani Bollywood song Mastani\n",
      "From 204 music copied from bajirao mastani song deewani mastani\n",
      "103 Its copied  from  Deewani mastani movie name=bajirao mastania Bollywood movie song\n",
      "The music that starts 207 I am sure is from the Bollywood movie Bajirao Mastani\n",
      "there is a part of the song is taken from Diwani Mastani song from Bajirao Mastani\n",
      "There was something familiar about this song I can hear Deewani Mastani from Bajirao Mastani movie with Deepika Padukone\n",
      "Hey thats deewani Mastani  bollywood song in the background\n",
      "105 Do you hear dewani mastani song from bajirao mastani film or is it just me \n",
      "Bgm copied from Indian movie song bajirao mastani\n",
      "\n",
      "Topic 8:\n",
      "like, deus_ex, look, great, ex, deus, game, ghost_shell, gta, looks\n",
      "\n",
      "GTA5 + DEUS EX = CYBERPUNK Just the type of game ive been looking for since I played GTA series and the Deux Ex series\n",
      "Great game It reminds me of like a mix between Fallout GTA KOTR in a world like Ghost In The Shell\n",
      "1020 Whatever caused this ghosting If its not a gameplay element hope it would not be in the final game I love the Deus Ex style but not so much for the smearingghosting artifacts that games antialiasing have\n",
      "This game looks so good  Although its got look and style of a GTA game hoping it isnt tho\n",
      "I like this game The metropolis is Deus Ex inspired but that is it The story of the game maybe very good\n",
      "Reminds me a lot of Ghost in the Shell and the manga Eden Its an Endless World Looking forward to playing this\n",
      "This is like if Deus ex GTA 5 and ghost in the shell without the philosophy had a threesome\n",
      "This gameplay feels like a mix Deus Ex Fallout and Killzone\n",
      "look like deus ex btw like a good game\n",
      "Honestly I think this game graphically is between FEAR and GTA5  it doesnt look like an improvement over the latter\n",
      "Looking forward to this hope it has some Ghost in the Shell inspiration\n",
      "Feels like i will be playing ghost in the shell  Looks awsm\n",
      "Doesnt look interesting at all hope its just a shitty demo of a good game\n",
      "Its Like Dredd Deus Ex and Ghost In The Shell had a threesome\n",
      "Cyberpunk world looks a lot like the world of Ghost in a shell\n",
      "This gives me Deus ex vibes but way better emersion and gameplay with different mechanics\n",
      "this reminds me  a lot of Ghost in The Shell not the shitty movie one of course\n",
      "Fuuuuuuck  Its like gta + witcher + deus ex + an action movie O\n",
      "I hope this games story is a bit like Judge Dredd Gritty and raw\n",
      "Dexter DeShawn voiced by Mike Pondsmith himself\n",
      "\n",
      "Topic 9:\n",
      "pretty, city, night, ok, theres, night_city, lets, bullet, screen, understand\n",
      "\n",
      "Literalmente estoy entrando en una fase de depresion esperando el juego por que ya ninguno me entretiene y no hago mas que pensar en el dia que pueda experimentar CyberPunk2077\n",
      "Isnt Jackie Welles the recurring sidekick character in the trailers suppose to be a big character so this trailer is a spoiler in that case Bit annoyed by that \n",
      "Crear el juego en primera persona y obvio no lo comprare Deben saber que asi como yo hay una comunidad de miles de personas Ojo hay que ser mas inteligentes\n",
      "Crear el juego en primera persona y obvio no lo comprare Deben saber que as como yo hay una comunidad de miles de personas Ojo hay que ser mas inteligentes\n",
      "Este juego junta todo lo detestable acerca del neocyberpunk Tiene tan poco del gnero que para hacertelo creer lo dice en el nombre\n",
      "para que van a personalizar el personaje si va a estar en primera persona osea es al pedo\n",
      "es una pena que el juego sea en primera persona y no en 3ra \n",
      "An sigo deseando que implementen el modo 3ra persona As podramos apreciar diferentes maneras de ver el mundo cyberpunk y poder disfrutar de la moda en nuestro personaje       Pnks Nt ead \n",
      "Does this mean theres no character creation  I wanted to make my own character\n",
      "Soy la nica que no puede parar de ver este gameplay Imagnate cuando salga la viciada que le vamos a pegar\n",
      "Por mas que lo intento no me gusta la vista en primera persona\n",
      "Soy el unico al que no le llama la atencion este juego |\n",
      "024  Bottom left corner \r",
      " This thing ruins entire trailer\n",
      "Si el juego viene en espaol latino sera perfecto El espaol de Espaa y sus modismos en las traducciones me la sudan\n",
      "Im throwing my money at my phone screen but nothing is happening\n",
      "Que suerte que no supe nunca de este juego hasta ahora me cuesta esperar 1 ao por un juego as que imagnate 6\n",
      "SI AGREGAN LA OPCIN DE VISTA EN TERCERA PERSONA ES PERFECTO SI LO HACEN NO TIENEN COMPETENCIA\n",
      "I keep throwing money at the screen but nothing happens  Edit Now my screen is cracked\n",
      "por que no lo sacaron el 21 abril que es mi cumpleaos jajjajaja  Esta muy bueno juego me encanta mucho la ambientacion futuristica y el estilo de mundo libre amo eso enserio estoy con hypee  por este juego    desde julio a comenzar ahorrar  para comprar  este grandisimo juegazo 3\n",
      "No entiendo para qu tanta personalizacin de mi personaje si al final no se puede ver en pantalla Es lo nico que no me gusta Por lo dems es una compra segura\n",
      "\n",
      "Topic 10:\n",
      "game, wait, good, witcher, games, best, going, cdpr, play, come\n",
      "\n",
      "I think Witcher 3 Wild Hunt is best game ever made but I gotta feeling this will be even better Story seems insanely good as well as graphicsJust typical CDPR game D\n",
      "This game will transcend its market many non gamers will enjoy it and maybe will become gamers afterwards Seriously its being a long while since I am that excited about a game cant wait\n",
      "EA  Single player games are dead CDPR  hold my beer\n",
      "EA Single player games are dead  CDPR Hold my beer\n",
      "EA single player games are dead    CDPR hold my beer\n",
      "EA Single Player games are Dead  CDPR Hold my beer\n",
      "EA Single Player games are Dead  CDPR Hold my beer InCDPRweTrust\n",
      "EA single player games are dead\r",
      " CDPR EA is dead\n",
      "EA  No more Single player games  CDPR  Hold my beer\n",
      "EA single player games are dead CDPR EA is dead\n",
      "Cyberpunk 2077 will be game of the decade Im gonna have to play this game a couple times to see the different outcomes\n",
      "EA Single player games are dead  CDPR pffft\n",
      "EA  Single player games are dead Metro Exodus  Hold my vodka\n",
      "This is going to be the best game for a really really fucking good single player game\n",
      "A good single player RPG  ahhh just cant wait to play it  \n",
      "EA single player games are dead  CDPR LOL\n",
      "Hands down one of the best teams out there you have so much on all other devs right now the quality is just outsanding Cant wait to play the game\n",
      "CDPR put Elon Musk Tesla Cybertruck in Cyberpunk 2077  PLEASE I am getting the truck and the game  \n",
      "CDPR put Elon Musk Tesla Cybertruck in Cyberpunk 2077  PLEASE I am getting the truck and the game  \n",
      "First The Witcher 3 now Cyberpunk 2077 CDPR I love you guys so much This game is going to be released\n",
      "\n",
      "Topic 11:\n",
      "future, real, comment, whats, john_wick, wonder, secret_message, john, wick, stupid\n",
      "\n",
      "2014john wick  2017 john wick cyberpunk\n",
      "Plot twist Cyberpunk 2077 is actually John Wick Chapter 77\n",
      "Can believe they put John Wick Fortnite in Cyberpunk\n",
      "cant believe they got john wick from fortnite\n",
      "I cant believe John Wick from Fortnite is in Cyberpunk\n",
      "All here scream John Wick Jonh Wick Matrix is all and Neo\n",
      "Fortnite we got REAL JOHN WICK\n",
      "We got John wick from fortnite in cyberpunk 2077\n",
      "Nobody   Fortnite kids hey that John wick from fortnite\n",
      "John Wick in cyberpunk is better than from fortnite lol\n",
      "When John Wick mashed with Neo in future 2077\n",
      "John wick w cyberpunk haha\n",
      "So thats what John Wick has been up to lately after his stint in the Matrix\n",
      "When you accidentally kill a dog and its from one John Wick 0\n",
      "Isnt that John wick from fortnite\n",
      "Omg guys its john wick from fortnite\n",
      "I bet someone is gonna dress as John Wick\n",
      "Fortnite kids We have John Wick\n",
      "John Wick pff is NEO of Matrix\n",
      "John Wick 4 Cyber Pencil\n",
      "\n",
      "Topic 12:\n",
      "dont, game, want, pc, know, need, buy, dont_know, like, consoles\n",
      "\n",
      "wanna pre order on steam but Im not sure if it will work on i79750H gtx 1660ti 24GB ram8 + 16 flex at 60fps medium settings\n",
      "dont buy from steam guys buy for GOG they deserve all the money  dont let this happend like the witcher 3\n",
      "intel i15 114 ghz gtx 7080ti OC 32gb ram 6000 mhz will run it at 40 fps in low sarcasm i want this game so bad\n",
      "I truly want this game but i cant buy The game and i have no xbox one or ps4 and thats really fuck me i need to play this think\n",
      "minimum requirements to run i9 9900k rtx 2080ti 32gb Ram\n",
      "Isnt your PC customizable though How are they gonna handle giving a customizable PC a personality Its not like the Witcher series\n",
      "Here i5 6600k  46 GHz GTX 1060 Xtreme Gaming 6G and 16 GB RAM 2x 8GB  3200 MHz CL15 I hope to play at maximum settings 60 FPS in FullHD\n",
      "Ive installed 2 GTX 1080 ti in SLI just for this particular game Hope the game will be enough to play it in 4K on ultra settings\n",
      "I hope it releases on Xbox one but I dont care I want to play this game\n",
      "I dont even have a pc that can run the game but still probably buying this just to give money to cdpr\n",
      "Ill upgrade my pc just to play this game at ultra settings with rtx on\n",
      "Who cares that theyre making less money Money isnt all there is you know The game will be better thanks to this\n",
      "I was gonna waste my money on this steam sale but i wont anymore Ill save for cyberpunk 2077\n",
      "going to buy this from GOG want to support these guys fully\n",
      "This game I will pre order I dont care\n",
      "What fps should I expect 1440 with  i7 8700 and gtx 1660  Id like to run high graphics Fps\n",
      "Will realese before ps5  So dont know if i buy it for ps4 and then ps5 when i will buy one\n",
      "I have a Ryzen 2600 rx 580 and 16 gb of ram would my pc be able to play this\n",
      "There were only a few games made me upgrade my PC Cyberpunk will be for consoles as well I will play on the PC \n",
      "I dont have a ps4 anymore but I still plan to buy this game just to support this people they deserve it\n"
     ]
    }
   ],
   "source": [
    "for i in range(len(representative_df_2)):\n",
    "    if i%20 == 0:\n",
    "        print()\n",
    "        print(f'Topic {i//20}:')\n",
    "        print(representative_df_2.iloc[i,3])\n",
    "        print()\n",
    "    print(representative_df_2.iloc[i,4])"
   ]
  },
  {
   "cell_type": "markdown",
   "metadata": {},
   "source": [
    "13 topics:\n",
    "\n",
    "Topic 0: the teaser trailer (hyped)\n",
    "Topic 1: 1st/3rd person perspective (3rd person prefered)\n",
    "Topic 2: release date (been waiting a long time)\n",
    "Topic 3: Keanu Reeves\n",
    "Topic 4: CD Projekt Red (best games, best company)\n",
    "Topic 5: gameplay (also, many comparisons with Blade Runner)\n",
    "Topic 6: game trailer (with some details: surroundings, characters)\n",
    "Topic 7: background music (the one sounds like deewani mastani)\n",
    "Topic 8: comparison with other games&films (GTA5, Deus Ex, Ghost in the Shell)\n",
    "Topic 9: DISCARDED (seems like a group of Spanish comment)\n",
    "Topic 10: single player games (and a lot of comparisons with EA)\n",
    "Topic 11: John Wick \n",
    "Topic 12: hardware; platform"
   ]
  },
  {
   "cell_type": "markdown",
   "metadata": {},
   "source": [
    "### Number of comments for each topic (excluding topic #9)"
   ]
  },
  {
   "cell_type": "code",
   "execution_count": 87,
   "metadata": {},
   "outputs": [],
   "source": [
    "new_df = pd.DataFrame()\n",
    "for i,group in topic_of_comment_df.groupby('Dominant Topic'):\n",
    "    new_df = pd.concat([new_df,group], axis=0)"
   ]
  },
  {
   "cell_type": "code",
   "execution_count": 88,
   "metadata": {},
   "outputs": [
    {
     "data": {
      "text/plain": [
       "28030"
      ]
     },
     "execution_count": 88,
     "metadata": {},
     "output_type": "execute_result"
    }
   ],
   "source": [
    "(new_df['Dominant Topic'] == 0.0).sum()"
   ]
  },
  {
   "cell_type": "code",
   "execution_count": 89,
   "metadata": {},
   "outputs": [
    {
     "data": {
      "text/plain": [
       "11779"
      ]
     },
     "execution_count": 89,
     "metadata": {},
     "output_type": "execute_result"
    }
   ],
   "source": [
    "(new_df['Dominant Topic'] == 1.0).sum()"
   ]
  },
  {
   "cell_type": "code",
   "execution_count": 90,
   "metadata": {},
   "outputs": [
    {
     "data": {
      "text/plain": [
       "9532"
      ]
     },
     "execution_count": 90,
     "metadata": {},
     "output_type": "execute_result"
    }
   ],
   "source": [
    "(new_df['Dominant Topic'] == 2.0).sum()"
   ]
  },
  {
   "cell_type": "code",
   "execution_count": 91,
   "metadata": {},
   "outputs": [
    {
     "data": {
      "text/plain": [
       "9168"
      ]
     },
     "execution_count": 91,
     "metadata": {},
     "output_type": "execute_result"
    }
   ],
   "source": [
    "(new_df['Dominant Topic'] == 3.0).sum()"
   ]
  },
  {
   "cell_type": "code",
   "execution_count": 92,
   "metadata": {},
   "outputs": [
    {
     "data": {
      "text/plain": [
       "8706"
      ]
     },
     "execution_count": 92,
     "metadata": {},
     "output_type": "execute_result"
    }
   ],
   "source": [
    "(new_df['Dominant Topic'] == 4.0).sum()"
   ]
  },
  {
   "cell_type": "code",
   "execution_count": 93,
   "metadata": {},
   "outputs": [
    {
     "data": {
      "text/plain": [
       "10069"
      ]
     },
     "execution_count": 93,
     "metadata": {},
     "output_type": "execute_result"
    }
   ],
   "source": [
    "(new_df['Dominant Topic'] == 5.0).sum()"
   ]
  },
  {
   "cell_type": "code",
   "execution_count": 94,
   "metadata": {},
   "outputs": [
    {
     "data": {
      "text/plain": [
       "10273"
      ]
     },
     "execution_count": 94,
     "metadata": {},
     "output_type": "execute_result"
    }
   ],
   "source": [
    "(new_df['Dominant Topic'] == 6.0).sum()"
   ]
  },
  {
   "cell_type": "code",
   "execution_count": 95,
   "metadata": {},
   "outputs": [
    {
     "data": {
      "text/plain": [
       "10600"
      ]
     },
     "execution_count": 95,
     "metadata": {},
     "output_type": "execute_result"
    }
   ],
   "source": [
    "(new_df['Dominant Topic'] == 7.0).sum()"
   ]
  },
  {
   "cell_type": "code",
   "execution_count": 96,
   "metadata": {},
   "outputs": [
    {
     "data": {
      "text/plain": [
       "14058"
      ]
     },
     "execution_count": 96,
     "metadata": {},
     "output_type": "execute_result"
    }
   ],
   "source": [
    "(new_df['Dominant Topic'] == 8.0).sum()"
   ]
  },
  {
   "cell_type": "code",
   "execution_count": 97,
   "metadata": {},
   "outputs": [
    {
     "data": {
      "text/plain": [
       "21491"
      ]
     },
     "execution_count": 97,
     "metadata": {},
     "output_type": "execute_result"
    }
   ],
   "source": [
    "(new_df['Dominant Topic'] == 10.0).sum()"
   ]
  },
  {
   "cell_type": "code",
   "execution_count": 98,
   "metadata": {},
   "outputs": [
    {
     "data": {
      "text/plain": [
       "6152"
      ]
     },
     "execution_count": 98,
     "metadata": {},
     "output_type": "execute_result"
    }
   ],
   "source": [
    "(new_df['Dominant Topic'] == 11.0).sum()"
   ]
  },
  {
   "cell_type": "code",
   "execution_count": 99,
   "metadata": {},
   "outputs": [
    {
     "data": {
      "text/plain": [
       "15432"
      ]
     },
     "execution_count": 99,
     "metadata": {},
     "output_type": "execute_result"
    }
   ],
   "source": [
    "(new_df['Dominant Topic'] == 12.0).sum()"
   ]
  }
 ],
 "metadata": {
  "kernelspec": {
   "display_name": "Python 3",
   "language": "python",
   "name": "python3"
  },
  "language_info": {
   "codemirror_mode": {
    "name": "ipython",
    "version": 3
   },
   "file_extension": ".py",
   "mimetype": "text/x-python",
   "name": "python",
   "nbconvert_exporter": "python",
   "pygments_lexer": "ipython3",
   "version": "3.7.6"
  }
 },
 "nbformat": 4,
 "nbformat_minor": 4
}
